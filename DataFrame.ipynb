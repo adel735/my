{
 "cells": [
  {
   "cell_type": "code",
   "execution_count": 1,
   "metadata": {},
   "outputs": [],
   "source": [
    "import pandas as pd\n",
    "import numpy as np"
   ]
  },
  {
   "cell_type": "markdown",
   "metadata": {},
   "source": [
    "this code to create data set for project"
   ]
  },
  {
   "cell_type": "code",
   "execution_count": 10,
   "metadata": {},
   "outputs": [],
   "source": [
    "data={'Postal Code':'0111'}"
   ]
  },
  {
   "cell_type": "code",
   "execution_count": 39,
   "metadata": {},
   "outputs": [],
   "source": [
    "df=pd.DataFrame(columns=['Postal Code','Borough','Neighborhood'],data=[['M5G','Downtown Toronto','Central Bay Street']\n",
    "                                                                      ,['M2H','North York','Hillcrest Village']\n",
    "                                                                      ,['M4B','East York','Parkview Hill, Woodbine Gardens']\n",
    "                                                                      ,['M1J','Scarborough','Scarborough Village']\n",
    "                                                                      ,['M7A','Downtown Toronto',\"Queen's Park, Ontario Provincial Government\"]\n",
    "                                                                      ,['M9A','Etobicoke','Islington Avenue, Humber Valley Village']\n",
    "                                                                      ,['M1B','Scarborough','Malvern, Rouge']\n",
    "                                                                      ,['M3B','\tNorth York','Don Mills']\n",
    "                                                                      ,['M4B','\tEast York','Parkview Hill, Woodbine Gardens']\n",
    "                                                                      ,['M5B','Downtown Toronto','Garden District, Ryerson']\n",
    "                                                                      ,['M6B','North York','Glencairn']])"
   ]
  },
  {
   "cell_type": "code",
   "execution_count": 43,
   "metadata": {},
   "outputs": [
    {
     "data": {
      "text/plain": [
       "(11, 3)"
      ]
     },
     "execution_count": 43,
     "metadata": {},
     "output_type": "execute_result"
    }
   ],
   "source": [
    "df.shape"
   ]
  },
  {
   "cell_type": "markdown",
   "metadata": {},
   "source": []
  }
 ],
 "metadata": {
  "kernelspec": {
   "display_name": "Python",
   "language": "python",
   "name": "conda-env-python-py"
  },
  "language_info": {
   "codemirror_mode": {
    "name": "ipython",
    "version": 3
   },
   "file_extension": ".py",
   "mimetype": "text/x-python",
   "name": "python",
   "nbconvert_exporter": "python",
   "pygments_lexer": "ipython3",
   "version": "3.6.11"
  }
 },
 "nbformat": 4,
 "nbformat_minor": 4
}
